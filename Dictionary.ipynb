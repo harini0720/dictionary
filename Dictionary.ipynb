{
  "nbformat": 4,
  "nbformat_minor": 0,
  "metadata": {
    "colab": {
      "provenance": []
    },
    "kernelspec": {
      "name": "python3",
      "display_name": "Python 3"
    },
    "language_info": {
      "name": "python"
    }
  },
  "cells": [
    {
      "cell_type": "code",
      "source": [
        "what s dictionary:\n",
        "    in python , a dictionary is a built in data type that allows you to store collection of data in form of key:value pairs.\n",
        "    dictionary is an unorderd, mutable collection of key value pairs, and written currly brackets{}separated by comma changeable and do not allow duplicates."
      ],
      "metadata": {
        "id": "3KQmJi3U1Ofj"
      },
      "execution_count": null,
      "outputs": []
    },
    {
      "cell_type": "markdown",
      "source": [
        "examples:"
      ],
      "metadata": {
        "id": "9cHI1eJzmTIT"
      }
    },
    {
      "cell_type": "code",
      "source": [
        "dict={'name':'Harini','age':21,'location':'hyd'}\n",
        "type(dict)\n",
        "print(dict)"
      ],
      "metadata": {
        "colab": {
          "base_uri": "https://localhost:8080/"
        },
        "id": "rlUp-ck8mY3a",
        "outputId": "c628c1c6-ceb5-4bd1-937c-7f8ac1946840"
      },
      "execution_count": null,
      "outputs": [
        {
          "output_type": "stream",
          "name": "stdout",
          "text": [
            "{'name': 'Harini', 'age': 21, 'location': 'hyd'}\n"
          ]
        }
      ]
    },
    {
      "cell_type": "code",
      "source": [
        "dict['age']"
      ],
      "metadata": {
        "colab": {
          "base_uri": "https://localhost:8080/"
        },
        "id": "POm_CL85oK5B",
        "outputId": "be7e0b10-2365-4f41-bf29-d1f5d9bb8abb"
      },
      "execution_count": null,
      "outputs": [
        {
          "output_type": "execute_result",
          "data": {
            "text/plain": [
              "21"
            ]
          },
          "metadata": {},
          "execution_count": 2
        }
      ]
    },
    {
      "cell_type": "code",
      "source": [
        "dict['name']"
      ],
      "metadata": {
        "colab": {
          "base_uri": "https://localhost:8080/",
          "height": 36
        },
        "id": "UaA6r_ZWoZJK",
        "outputId": "0ddb409f-81fa-4317-dc3e-1aa922581ee4"
      },
      "execution_count": null,
      "outputs": [
        {
          "output_type": "execute_result",
          "data": {
            "text/plain": [
              "'Harini'"
            ],
            "application/vnd.google.colaboratory.intrinsic+json": {
              "type": "string"
            }
          },
          "metadata": {},
          "execution_count": 3
        }
      ]
    },
    {
      "cell_type": "code",
      "source": [
        "dict['location']"
      ],
      "metadata": {
        "colab": {
          "base_uri": "https://localhost:8080/",
          "height": 36
        },
        "id": "sznftCX9ohob",
        "outputId": "95b265a3-f08f-42d0-a786-86a2325172f1"
      },
      "execution_count": null,
      "outputs": [
        {
          "output_type": "execute_result",
          "data": {
            "text/plain": [
              "'hyd'"
            ],
            "application/vnd.google.colaboratory.intrinsic+json": {
              "type": "string"
            }
          },
          "metadata": {},
          "execution_count": 4
        }
      ]
    },
    {
      "cell_type": "code",
      "source": [
        "word={'number':1,'name':'ram','age':35,'location':'hyd','sarlary':10000}\n",
        "word"
      ],
      "metadata": {
        "colab": {
          "base_uri": "https://localhost:8080/"
        },
        "id": "h0rSBfMuoxHF",
        "outputId": "d127f373-82d4-4bd9-de5e-9e873a274f93"
      },
      "execution_count": null,
      "outputs": [
        {
          "output_type": "execute_result",
          "data": {
            "text/plain": [
              "{'number': 1, 'name': 'ram', 'age': 35, 'location': 'hyd', 'sarlary': 10000}"
            ]
          },
          "metadata": {},
          "execution_count": 5
        }
      ]
    },
    {
      "cell_type": "code",
      "source": [
        "word['sarlary']"
      ],
      "metadata": {
        "colab": {
          "base_uri": "https://localhost:8080/"
        },
        "id": "P6SwQiVEp04c",
        "outputId": "e86d77a3-3d27-4287-dfb2-929d5ff29f14"
      },
      "execution_count": null,
      "outputs": [
        {
          "output_type": "execute_result",
          "data": {
            "text/plain": [
              "10000"
            ]
          },
          "metadata": {},
          "execution_count": 6
        }
      ]
    },
    {
      "cell_type": "code",
      "source": [
        "word['name']"
      ],
      "metadata": {
        "colab": {
          "base_uri": "https://localhost:8080/",
          "height": 36
        },
        "id": "lxpHZ_llp9iq",
        "outputId": "05da0b7f-1a2b-43de-a225-7eeb506b4d29"
      },
      "execution_count": null,
      "outputs": [
        {
          "output_type": "execute_result",
          "data": {
            "text/plain": [
              "'ram'"
            ],
            "application/vnd.google.colaboratory.intrinsic+json": {
              "type": "string"
            }
          },
          "metadata": {},
          "execution_count": 7
        }
      ]
    },
    {
      "cell_type": "code",
      "source": [
        "word['location']"
      ],
      "metadata": {
        "colab": {
          "base_uri": "https://localhost:8080/",
          "height": 36
        },
        "id": "7jU9jj4aqDua",
        "outputId": "6d38551c-168c-4ada-ee5c-bde9317fbc00"
      },
      "execution_count": null,
      "outputs": [
        {
          "output_type": "execute_result",
          "data": {
            "text/plain": [
              "'hyd'"
            ],
            "application/vnd.google.colaboratory.intrinsic+json": {
              "type": "string"
            }
          },
          "metadata": {},
          "execution_count": 8
        }
      ]
    },
    {
      "cell_type": "code",
      "source": [
        "word['age']"
      ],
      "metadata": {
        "colab": {
          "base_uri": "https://localhost:8080/"
        },
        "id": "5cHyO5DGqaqc",
        "outputId": "50a15037-8cc4-4f17-95f7-8a57083117ba"
      },
      "execution_count": null,
      "outputs": [
        {
          "output_type": "execute_result",
          "data": {
            "text/plain": [
              "35"
            ]
          },
          "metadata": {},
          "execution_count": 9
        }
      ]
    },
    {
      "cell_type": "markdown",
      "source": [
        "#adding two dictionary:"
      ],
      "metadata": {
        "id": "JJlK0MXEqiZU"
      }
    },
    {
      "cell_type": "code",
      "source": [
        "dict1={'name':'sita','age':65,'location':'andhra pradesh'}\n",
        "dict2={'name':'ruthuu','age':20,'location':'TS'}\n",
        "dict2"
      ],
      "metadata": {
        "colab": {
          "base_uri": "https://localhost:8080/"
        },
        "id": "EzG0zwmPqsV8",
        "outputId": "4e52b2e0-7239-4755-cbce-39b7eae1e0f8"
      },
      "execution_count": null,
      "outputs": [
        {
          "output_type": "execute_result",
          "data": {
            "text/plain": [
              "{'name': 'ruthuu', 'age': 20, 'location': 'TS'}"
            ]
          },
          "metadata": {},
          "execution_count": 15
        }
      ]
    },
    {
      "cell_type": "markdown",
      "source": [
        "#common methods in dicitionary"
      ],
      "metadata": {
        "id": "eqPjm-91t5YE"
      }
    },
    {
      "cell_type": "markdown",
      "source": [
        "*dict.get(): the given key ,returns none if the key does not exist."
      ],
      "metadata": {
        "id": "sYu8m3BbuZw9"
      }
    },
    {
      "cell_type": "markdown",
      "source": [
        "*dict.keys():it will return all key in dictionary."
      ],
      "metadata": {
        "id": "pWtd5_tDvGr1"
      }
    },
    {
      "cell_type": "markdown",
      "source": [
        "*dict.values(): it will return all the value in dictionsary."
      ],
      "metadata": {
        "id": "RwwcPUEyvbXK"
      }
    },
    {
      "cell_type": "markdown",
      "source": [
        "*dict.items(): return a view object of key value pair."
      ],
      "metadata": {
        "id": "aY2AtlLvvwpW"
      }
    },
    {
      "cell_type": "markdown",
      "source": [
        "*dict.update(): merges another dictionary into the current one."
      ],
      "metadata": {
        "id": "-SWB2SJxwK5b"
      }
    },
    {
      "cell_type": "markdown",
      "source": [
        "*dict.pop(): removes and returns the value of specified key."
      ],
      "metadata": {
        "id": "m3MevRmLwi27"
      }
    },
    {
      "cell_type": "markdown",
      "source": [
        "*dict.pop items(): return the last item from a dictionary."
      ],
      "metadata": {
        "id": "lmRnqXkKw9XL"
      }
    },
    {
      "cell_type": "markdown",
      "source": [
        "example for get() method:"
      ],
      "metadata": {
        "id": "l1NwabE_dcHG"
      }
    },
    {
      "cell_type": "code",
      "source": [
        "word={'name':'shakthi','age':26,'location':'rtc cross road','salary':10000}\n",
        "word.get('location')\n"
      ],
      "metadata": {
        "colab": {
          "base_uri": "https://localhost:8080/",
          "height": 36
        },
        "id": "TYtmsC8JdkIv",
        "outputId": "972a1744-1850-47a5-91c9-ec046c6b1ad3"
      },
      "execution_count": 1,
      "outputs": [
        {
          "output_type": "execute_result",
          "data": {
            "text/plain": [
              "'rtc cross road'"
            ],
            "application/vnd.google.colaboratory.intrinsic+json": {
              "type": "string"
            }
          },
          "metadata": {},
          "execution_count": 1
        }
      ]
    },
    {
      "cell_type": "code",
      "source": [
        "word.get('name')"
      ],
      "metadata": {
        "colab": {
          "base_uri": "https://localhost:8080/",
          "height": 36
        },
        "id": "kH6g_FJweo7C",
        "outputId": "169b52b5-74c7-404d-9962-f77be975b217"
      },
      "execution_count": 2,
      "outputs": [
        {
          "output_type": "execute_result",
          "data": {
            "text/plain": [
              "'shakthi'"
            ],
            "application/vnd.google.colaboratory.intrinsic+json": {
              "type": "string"
            }
          },
          "metadata": {},
          "execution_count": 2
        }
      ]
    },
    {
      "cell_type": "code",
      "source": [
        "word.get('age')"
      ],
      "metadata": {
        "colab": {
          "base_uri": "https://localhost:8080/"
        },
        "id": "XmT5jXr-e0aS",
        "outputId": "98996484-70c6-4530-8397-4beed0a6ef21"
      },
      "execution_count": 3,
      "outputs": [
        {
          "output_type": "execute_result",
          "data": {
            "text/plain": [
              "26"
            ]
          },
          "metadata": {},
          "execution_count": 3
        }
      ]
    },
    {
      "cell_type": "code",
      "source": [
        "word.get('salary')"
      ],
      "metadata": {
        "colab": {
          "base_uri": "https://localhost:8080/"
        },
        "id": "kAOr0SVoe4aS",
        "outputId": "96a1d9b5-1a07-4c1f-afa0-b4bd421b6bf8"
      },
      "execution_count": 4,
      "outputs": [
        {
          "output_type": "execute_result",
          "data": {
            "text/plain": [
              "10000"
            ]
          },
          "metadata": {},
          "execution_count": 4
        }
      ]
    },
    {
      "cell_type": "markdown",
      "source": [
        "dict.key() method:"
      ],
      "metadata": {
        "id": "MnjQ2WyPh7Pg"
      }
    },
    {
      "cell_type": "code",
      "source": [
        "hello={'number':1,'name':'ram','age':35,'location':'hyd','sarlary':10000}\n",
        "hello.keys()"
      ],
      "metadata": {
        "colab": {
          "base_uri": "https://localhost:8080/"
        },
        "id": "sWGrgIVzgCL-",
        "outputId": "eeecde8b-06de-42c3-debf-6b9a14730787"
      },
      "execution_count": 8,
      "outputs": [
        {
          "output_type": "execute_result",
          "data": {
            "text/plain": [
              "dict_keys(['number', 'name', 'age', 'location', 'sarlary'])"
            ]
          },
          "metadata": {},
          "execution_count": 8
        }
      ]
    },
    {
      "cell_type": "markdown",
      "source": [
        "dict.values() method:"
      ],
      "metadata": {
        "id": "ZwrIqJkTiWsI"
      }
    },
    {
      "cell_type": "code",
      "source": [
        "hello={'number':1,'name':'ram','age':35,'location':'hyd','sarlary':10000}\n",
        "hello.values()"
      ],
      "metadata": {
        "colab": {
          "base_uri": "https://localhost:8080/"
        },
        "id": "1g3RNOSViDHi",
        "outputId": "c3ceca1f-2abe-4763-d7de-b5ebd7f12172"
      },
      "execution_count": 11,
      "outputs": [
        {
          "output_type": "execute_result",
          "data": {
            "text/plain": [
              "dict_values([1, 'ram', 35, 'hyd', 10000])"
            ]
          },
          "metadata": {},
          "execution_count": 11
        }
      ]
    },
    {
      "cell_type": "markdown",
      "source": [
        "dict.items() method:"
      ],
      "metadata": {
        "id": "pJlyQgOrjpGC"
      }
    },
    {
      "cell_type": "code",
      "source": [
        "hello={'number':1,'name':'ram','age':35,'location':'hyd','sarlary':10000}\n",
        "hello.items()"
      ],
      "metadata": {
        "colab": {
          "base_uri": "https://localhost:8080/"
        },
        "id": "ECGysemDigT_",
        "outputId": "65a16331-145d-46ca-bdda-0d533bbb0206"
      },
      "execution_count": 15,
      "outputs": [
        {
          "output_type": "execute_result",
          "data": {
            "text/plain": [
              "dict_items([('number', 1), ('name', 'ram'), ('age', 35), ('location', 'hyd'), ('sarlary', 10000)])"
            ]
          },
          "metadata": {},
          "execution_count": 15
        }
      ]
    },
    {
      "cell_type": "markdown",
      "source": [
        "dict.update() method:"
      ],
      "metadata": {
        "id": "sjEOU1Bhl0dY"
      }
    },
    {
      "cell_type": "code",
      "source": [
        "hello={'name':'sita','age':65,'location':'andhra pradesh'}\n",
        "ram={'name':'ruthu','age':23,'location':'ts'}\n",
        "hello.update(ram)\n",
        "hello"
      ],
      "metadata": {
        "colab": {
          "base_uri": "https://localhost:8080/"
        },
        "id": "vsnjeO9jjvha",
        "outputId": "c57b72dd-1b5b-488d-9adf-8cbf9394afab"
      },
      "execution_count": 21,
      "outputs": [
        {
          "output_type": "execute_result",
          "data": {
            "text/plain": [
              "{'name': 'ruthu', 'age': 23, 'location': 'ts'}"
            ]
          },
          "metadata": {},
          "execution_count": 21
        }
      ]
    },
    {
      "cell_type": "code",
      "source": [
        "hello={'name':'sita','age':65,'location':'andhra pradesh'}\n",
        "ram={'name':'ruthu','age':23,'location':'ts'}\n",
        "ram.update(ram)\n",
        "ram"
      ],
      "metadata": {
        "colab": {
          "base_uri": "https://localhost:8080/"
        },
        "id": "ZwvKMiIulUqS",
        "outputId": "347f5d28-6724-4b54-f043-df00d6db823b"
      },
      "execution_count": 22,
      "outputs": [
        {
          "output_type": "execute_result",
          "data": {
            "text/plain": [
              "{'name': 'ruthu', 'age': 23, 'location': 'ts'}"
            ]
          },
          "metadata": {},
          "execution_count": 22
        }
      ]
    },
    {
      "cell_type": "markdown",
      "source": [
        "dict.pop() method:"
      ],
      "metadata": {
        "id": "Gtr406a9l9Lw"
      }
    },
    {
      "cell_type": "code",
      "source": [
        "hello={'name':'ram','age':85,'location':'andhra pradesh'}\n",
        "hello.pop('age')"
      ],
      "metadata": {
        "colab": {
          "base_uri": "https://localhost:8080/"
        },
        "id": "8TEwi9fxmD8H",
        "outputId": "14802ab2-3873-4c42-e3fc-35aeb72db2aa"
      },
      "execution_count": 23,
      "outputs": [
        {
          "output_type": "execute_result",
          "data": {
            "text/plain": [
              "85"
            ]
          },
          "metadata": {},
          "execution_count": 23
        }
      ]
    },
    {
      "cell_type": "code",
      "source": [
        "hello.pop('name')"
      ],
      "metadata": {
        "colab": {
          "base_uri": "https://localhost:8080/",
          "height": 36
        },
        "id": "2qBi8K4WmYXq",
        "outputId": "8c00f313-148c-4885-ff41-75af44b7da4e"
      },
      "execution_count": 24,
      "outputs": [
        {
          "output_type": "execute_result",
          "data": {
            "text/plain": [
              "'ram'"
            ],
            "application/vnd.google.colaboratory.intrinsic+json": {
              "type": "string"
            }
          },
          "metadata": {},
          "execution_count": 24
        }
      ]
    },
    {
      "cell_type": "code",
      "source": [
        "hello.pop('location')"
      ],
      "metadata": {
        "colab": {
          "base_uri": "https://localhost:8080/",
          "height": 36
        },
        "id": "tdbnVFD-mgJr",
        "outputId": "f1ae5d26-3b85-4530-c949-1ec2047e2607"
      },
      "execution_count": 25,
      "outputs": [
        {
          "output_type": "execute_result",
          "data": {
            "text/plain": [
              "'andhra pradesh'"
            ],
            "application/vnd.google.colaboratory.intrinsic+json": {
              "type": "string"
            }
          },
          "metadata": {},
          "execution_count": 25
        }
      ]
    },
    {
      "cell_type": "markdown",
      "source": [
        "pop item() method:"
      ],
      "metadata": {
        "id": "wfMz6RbamtQf"
      }
    },
    {
      "cell_type": "code",
      "source": [
        "hi={'name':'hari','door num':61,'location':'hyd'}\n",
        "hi.popitem()"
      ],
      "metadata": {
        "colab": {
          "base_uri": "https://localhost:8080/"
        },
        "id": "2fu123jfm0Ki",
        "outputId": "a6711604-c32a-4b2b-8a5b-c7dbecbffb1f"
      },
      "execution_count": 27,
      "outputs": [
        {
          "output_type": "execute_result",
          "data": {
            "text/plain": [
              "('location', 'hyd')"
            ]
          },
          "metadata": {},
          "execution_count": 27
        }
      ]
    },
    {
      "cell_type": "code",
      "source": [
        "word={'name':'hari','percent':95,'sarlary':'150000'}\n",
        "word.popitem()"
      ],
      "metadata": {
        "colab": {
          "base_uri": "https://localhost:8080/"
        },
        "id": "7IYFZY0Znosp",
        "outputId": "54275bf6-1d5c-4f43-857b-7c9d9587a735"
      },
      "execution_count": 29,
      "outputs": [
        {
          "output_type": "execute_result",
          "data": {
            "text/plain": [
              "('sarlary', '150000')"
            ]
          },
          "metadata": {},
          "execution_count": 29
        }
      ]
    },
    {
      "cell_type": "markdown",
      "source": [
        "clear() method:"
      ],
      "metadata": {
        "id": "xLLapEKRoBAx"
      }
    },
    {
      "cell_type": "code",
      "source": [
        "a={1:'apple',2:'banana',3:'orange'}\n",
        "a.clear()\n",
        "a"
      ],
      "metadata": {
        "colab": {
          "base_uri": "https://localhost:8080/"
        },
        "id": "uZ0xM5BhoN5g",
        "outputId": "9fb1a6f4-626a-4ad9-b3d0-64319540991c"
      },
      "execution_count": 30,
      "outputs": [
        {
          "output_type": "execute_result",
          "data": {
            "text/plain": [
              "{}"
            ]
          },
          "metadata": {},
          "execution_count": 30
        }
      ]
    },
    {
      "cell_type": "code",
      "source": [
        "b={'name':'hari','door num':61,'location':'hyd'}\n",
        "b.clear()\n",
        "b"
      ],
      "metadata": {
        "colab": {
          "base_uri": "https://localhost:8080/"
        },
        "id": "ZX9S8FRHoYwJ",
        "outputId": "5f4a4796-56db-4524-ebe2-e13ee0431139"
      },
      "execution_count": 31,
      "outputs": [
        {
          "output_type": "execute_result",
          "data": {
            "text/plain": [
              "{}"
            ]
          },
          "metadata": {},
          "execution_count": 31
        }
      ]
    }
  ]
}